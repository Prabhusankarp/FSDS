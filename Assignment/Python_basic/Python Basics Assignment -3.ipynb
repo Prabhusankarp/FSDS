{
 "cells": [
  {
   "cell_type": "markdown",
   "id": "d5a99646",
   "metadata": {},
   "source": [
    "##                       Python Basics Assignment -3 "
   ]
  },
  {
   "cell_type": "markdown",
   "id": "573ea563",
   "metadata": {},
   "source": [
    "#### 1. Why are functions advantageous to have in your programs?"
   ]
  },
  {
   "cell_type": "markdown",
   "id": "3d408a0f",
   "metadata": {},
   "source": [
    "Functions are used to reduce the repeatative lines of codes in the program, it can be reused as many times we need in a program by uisng function call."
   ]
  },
  {
   "cell_type": "markdown",
   "id": "29c7f3f2",
   "metadata": {},
   "source": [
    "#### 2. When does the code in a function run: when it's specified or when it's called?"
   ]
  },
  {
   "cell_type": "markdown",
   "id": "04bf96b0",
   "metadata": {},
   "source": [
    "Function code is excecuted only when it is called."
   ]
  },
  {
   "cell_type": "markdown",
   "id": "2ff1fa06",
   "metadata": {},
   "source": [
    "#### 3. What statement creates a function?"
   ]
  },
  {
   "cell_type": "markdown",
   "id": "278ae099",
   "metadata": {},
   "source": [
    "**def** keyword is used to create the fuction followed by function name and parameters.\n",
    "\n",
    "eg: def add(a,b):\n",
    "return (a+b)\n"
   ]
  },
  {
   "cell_type": "markdown",
   "id": "d803f203",
   "metadata": {},
   "source": [
    "#### 4. What is the difference between a function and a function call?"
   ]
  },
  {
   "cell_type": "markdown",
   "id": "3fcb94a5",
   "metadata": {},
   "source": [
    "Function is the block of codes for performing a perticular task.\n",
    "\n",
    "fucntion call is used to excecute the function, it can be called as time the program."
   ]
  },
  {
   "cell_type": "markdown",
   "id": "3a114e41",
   "metadata": {},
   "source": [
    "#### 5. How many global scopes are there in a Python program? How many local scopes?"
   ]
  },
  {
   "cell_type": "markdown",
   "id": "5f44bc69",
   "metadata": {},
   "source": [
    "Python has one global scope and local scope is created inside the function and it is accessible within the fucntion only."
   ]
  },
  {
   "cell_type": "markdown",
   "id": "c409a426",
   "metadata": {},
   "source": [
    "#### 6. What happens to variables in a local scope when the function call returns?"
   ]
  },
  {
   "cell_type": "markdown",
   "id": "e315c12e",
   "metadata": {},
   "source": [
    "When the function call returns, it will replace the values in the local variable."
   ]
  },
  {
   "cell_type": "markdown",
   "id": "8e52a925",
   "metadata": {},
   "source": [
    "#### 7. What is the concept of a return value? Is it possible to have a return value in an expression?"
   ]
  },
  {
   "cell_type": "markdown",
   "id": "87ee1097",
   "metadata": {},
   "source": [
    "As the function gets excecuted it will return a value to the function call. it can be also be used in expression."
   ]
  },
  {
   "cell_type": "markdown",
   "id": "8e74db6d",
   "metadata": {},
   "source": [
    "#### 8. If a function does not have a return statement, what is the return value of a call to that function?"
   ]
  },
  {
   "cell_type": "markdown",
   "id": "fd37e206",
   "metadata": {},
   "source": [
    "Function will return nothing if it doesn't have a return statement."
   ]
  },
  {
   "cell_type": "markdown",
   "id": "4dc58e66",
   "metadata": {},
   "source": [
    "#### 9. How do you make a function variable refer to the global variable?"
   ]
  },
  {
   "cell_type": "markdown",
   "id": "355fe0da",
   "metadata": {},
   "source": [
    "**global** keyword is used to make a fucntion variable as a global variable."
   ]
  },
  {
   "cell_type": "markdown",
   "id": "5c105a1e",
   "metadata": {},
   "source": [
    "#### 10. What is the data type of None?"
   ]
  },
  {
   "cell_type": "markdown",
   "id": "8a541e2b",
   "metadata": {},
   "source": [
    "Datatype of None is Nonetype"
   ]
  },
  {
   "cell_type": "markdown",
   "id": "a0357188",
   "metadata": {},
   "source": [
    "#### 11. What does the sentence import areallyourpetsnamederic do?"
   ]
  },
  {
   "cell_type": "markdown",
   "id": "9d7a1249",
   "metadata": {},
   "source": [
    "It will import the areallyourpetsnamederic module"
   ]
  },
  {
   "cell_type": "markdown",
   "id": "f7ff9a57",
   "metadata": {},
   "source": [
    "#### 12. If you had a bacon() feature in a spam module, what would you call it after importing spam?"
   ]
  },
  {
   "cell_type": "markdown",
   "id": "c4a24aa9",
   "metadata": {},
   "source": [
    "After importing spam \n",
    "\n",
    "spam.bacon() is use call the bacon() module."
   ]
  },
  {
   "cell_type": "markdown",
   "id": "483dd61d",
   "metadata": {},
   "source": [
    "#### 13. What can you do to save a programme from crashing if it encounters an error?"
   ]
  },
  {
   "cell_type": "markdown",
   "id": "c6a6f991",
   "metadata": {},
   "source": [
    "Using **try and except** caluse we can save the program from crashing while excecution"
   ]
  },
  {
   "cell_type": "markdown",
   "id": "488474de",
   "metadata": {},
   "source": [
    "#### 14. What is the purpose of the try clause? What is the purpose of the except clause?"
   ]
  },
  {
   "cell_type": "markdown",
   "id": "1c228510",
   "metadata": {},
   "source": [
    "**try** clause is used to run a code which might cause an error.\n",
    "\n",
    "**except** clause is excecuted when there is error in the program."
   ]
  }
 ],
 "metadata": {
  "kernelspec": {
   "display_name": "Python 3 (ipykernel)",
   "language": "python",
   "name": "python3"
  },
  "language_info": {
   "codemirror_mode": {
    "name": "ipython",
    "version": 3
   },
   "file_extension": ".py",
   "mimetype": "text/x-python",
   "name": "python",
   "nbconvert_exporter": "python",
   "pygments_lexer": "ipython3",
   "version": "3.10.9"
  }
 },
 "nbformat": 4,
 "nbformat_minor": 5
}
