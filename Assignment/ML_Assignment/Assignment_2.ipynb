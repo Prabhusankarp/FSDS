{
 "cells": [
  {
   "cell_type": "markdown",
   "id": "d2e23d82",
   "metadata": {},
   "source": [
    "## Assignment_2"
   ]
  },
  {
   "cell_type": "markdown",
   "id": "56f996d5",
   "metadata": {},
   "source": [
    "#### 1. What is the concept of human learning? Please give two examples."
   ]
  },
  {
   "cell_type": "markdown",
   "id": "94d065a5",
   "metadata": {},
   "source": [
    "Human earning is a continuous process where the learning happens through visuals, sounds, touch etc..\n",
    "Eg. Learning to speak our mother tounge, Leaning to drive a vehicle"
   ]
  },
  {
   "cell_type": "markdown",
   "id": "da38d783",
   "metadata": {},
   "source": [
    "#### 2. What different forms of human learning are there? Are there any machine learning equivalents?"
   ]
  },
  {
   "cell_type": "markdown",
   "id": "101ba1cf",
   "metadata": {},
   "source": [
    "Machine learning equivalents for ML are supervised, unsupervised and Reinforcement Learning."
   ]
  },
  {
   "cell_type": "markdown",
   "id": "08aae76c",
   "metadata": {},
   "source": [
    "#### 3. What is machine learning, and how does it work? What are the key responsibilities of machine learning?"
   ]
  },
  {
   "cell_type": "markdown",
   "id": "39d76927",
   "metadata": {},
   "source": [
    "The main aim of machine learning is to think and work similar to how human thinks and sct accordingly.\n",
    "The respeonsiblity of machine learing is to make accurate results with minimal error."
   ]
  },
  {
   "cell_type": "markdown",
   "id": "d8d9bebf",
   "metadata": {},
   "source": [
    "#### 4. Define the terms &quot;penalty&quot; and &quot;reward&quot; in the context of reinforcement learning."
   ]
  },
  {
   "cell_type": "markdown",
   "id": "c759fc25",
   "metadata": {},
   "source": [
    "Penalty is impossed on algorithm whenever it makes incorrect predictions and rewards is impossed on algorithms whenever it makes correct predictions"
   ]
  },
  {
   "cell_type": "markdown",
   "id": "a992c8f5",
   "metadata": {},
   "source": [
    "#### 5. Explain the term &quot;learning as a search&quot;?"
   ]
  },
  {
   "cell_type": "markdown",
   "id": "fe5b5ffd",
   "metadata": {},
   "source": [
    "Learning can be viewed as a search through the space of all sentences in a concept description language for a sentence that best describes the data. Alternatively, it can be viewed as a search through all hypotheses in a hypothesis space."
   ]
  },
  {
   "cell_type": "markdown",
   "id": "89e7bf6d",
   "metadata": {},
   "source": [
    "#### 6. What are the various goals of machine learning? What is the relationship between these and human learning?"
   ]
  },
  {
   "cell_type": "markdown",
   "id": "de9004d7",
   "metadata": {},
   "source": [
    "The goal of Machine learning is to understand the nature of human learning and to build learning capability in computers.\n",
    "Machine learning and human learning relationship for ML are supervised, unsupervised and Reinforcement Learning."
   ]
  },
  {
   "cell_type": "markdown",
   "id": "04cd1471",
   "metadata": {},
   "source": [
    "#### 7. Illustrate the various elements of machine learning using a real-life illustration."
   ]
  },
  {
   "cell_type": "markdown",
   "id": "f651fc83",
   "metadata": {},
   "source": [
    "The Various elements of the the Machine Learning are:\n",
    "\n",
    "1.Data  \n",
    "\n",
    "2.Task\n",
    "\n",
    "3.Model\n",
    "\n",
    "4.Loss Function\n",
    "\n",
    "5.Learning Algorithm\n",
    "\n",
    "6.Evaluation"
   ]
  },
  {
   "cell_type": "markdown",
   "id": "561da29d",
   "metadata": {},
   "source": [
    "#### 8. Provide an example of the abstraction method."
   ]
  },
  {
   "cell_type": "markdown",
   "id": "fa018959",
   "metadata": {},
   "source": [
    "All the features may not contribute to the target variable or output.  filtering out the number of features in a algorithm is an example for abstraction method in machine learning."
   ]
  },
  {
   "cell_type": "markdown",
   "id": "6b6e0f29",
   "metadata": {},
   "source": [
    "#### 9. What is the concept of generalization? What function does it play in the machine learning process?"
   ]
  },
  {
   "cell_type": "markdown",
   "id": "4cf9d115",
   "metadata": {},
   "source": [
    "In machine learning, generalization refers to the ability of a model to perform well on new and unseen data, not just the data it was trained on. This is an important concept because it allows the model to have good performance on data that it has not seen before."
   ]
  },
  {
   "cell_type": "markdown",
   "id": "aad8b150",
   "metadata": {},
   "source": [
    "#### 10.What is classification, exactly? What are the main distinctions between classification and regression?"
   ]
  },
  {
   "cell_type": "markdown",
   "id": "5e0b8327",
   "metadata": {},
   "source": [
    "Classification algorithms maps the input data with the predifined output variable , Eg. spam detection , whereas the regression algorithm predicts the output with input data, the output in regrerssion is continous eg. House price prediction "
   ]
  },
  {
   "cell_type": "markdown",
   "id": "5e173b99",
   "metadata": {},
   "source": [
    "#### 11. What is regression, and how does it work? Give an example of a real-world problem that was solved using regression."
   ]
  },
  {
   "cell_type": "markdown",
   "id": "26296e48",
   "metadata": {},
   "source": [
    "Regression algorithm predicts the output with input data, the output in regrerssion is continous.\n",
    "\n",
    "With the help of best fit line the regression algorithms can able to predict the outputs\n",
    "\n",
    "eg. Examle of Regression is House price prediction , with the different input features like area, sq.ft, no of rooms etc.. the fair price of property can be predicted."
   ]
  },
  {
   "cell_type": "markdown",
   "id": "9bf493d8",
   "metadata": {},
   "source": [
    "#### 12. Describe the clustering mechanism in detail."
   ]
  },
  {
   "cell_type": "markdown",
   "id": "fb3458ac",
   "metadata": {},
   "source": [
    "Clustering is a type of unsupervised learning algorithm. It involves in grouping similar data points together based on their features or characteristics. The goal of clustering is to identify hidden patterns or structures in the data that can be used for further analysis or decision-making."
   ]
  },
  {
   "cell_type": "markdown",
   "id": "2da5dd0e",
   "metadata": {},
   "source": [
    "#### 13. Make brief observations on two of the following topics:\n",
    "\n",
    "####  i. Machine learning algorithms are used\n",
    "\n",
    "####  ii. Studying under supervision\n",
    "\n",
    "####  iii. Studying without supervision\n",
    "\n",
    "####  iv. Reinforcement learning is a form of learning based on positive reinforcement."
   ]
  },
  {
   "cell_type": "markdown",
   "id": "2461b11d",
   "metadata": {},
   "source": [
    "* Machine learning algorithms are used - ML Algorithams are used to solve most complex real world problems.\n",
    "* Studying under supervision - Supervised learning, an algorithm learns from a training dataset with independent and dependent varables."
   ]
  },
  {
   "cell_type": "code",
   "execution_count": null,
   "id": "f391cd7c",
   "metadata": {},
   "outputs": [],
   "source": []
  }
 ],
 "metadata": {
  "kernelspec": {
   "display_name": "Python 3 (ipykernel)",
   "language": "python",
   "name": "python3"
  },
  "language_info": {
   "codemirror_mode": {
    "name": "ipython",
    "version": 3
   },
   "file_extension": ".py",
   "mimetype": "text/x-python",
   "name": "python",
   "nbconvert_exporter": "python",
   "pygments_lexer": "ipython3",
   "version": "3.10.9"
  }
 },
 "nbformat": 4,
 "nbformat_minor": 5
}
