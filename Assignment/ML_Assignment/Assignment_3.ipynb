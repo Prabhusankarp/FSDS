{
 "cells": [
  {
   "cell_type": "markdown",
   "id": "01ad95d4",
   "metadata": {},
   "source": [
    "## Assignment_3"
   ]
  },
  {
   "cell_type": "markdown",
   "id": "dbca1534",
   "metadata": {},
   "source": [
    "### 1. Explain the term machine learning, and how does it work? Explain two machine learning applications in the business world. What are some of the ethical concerns that machine learning applications could raise?"
   ]
  },
  {
   "cell_type": "markdown",
   "id": "af505485",
   "metadata": {},
   "source": [
    "Machine learning is a subfield of artificial intelligence (AI) that focuses on the development of algorithms and statistical models for solving real world problems.\n",
    "\n",
    "Examples of ML Models in real world:\n",
    "\n",
    "Eg. 1. Spam dedection in mail- In this digital era, we receieve lot of mails daily, ML Models were used to deduct the spam mails which in turn saves our time and even money.\n",
    "Eg. 2 . Recommendation systems- Based on our usage history ML Models recommends products to users.\n",
    "\n",
    "Ethical concerns related to data privacy, data misuse."
   ]
  },
  {
   "cell_type": "markdown",
   "id": "6ce90cf3",
   "metadata": {},
   "source": [
    "### 2. Describe the process of human learning:                                                                                                                   i. Under the supervision of experts                                                                                                                                        ii. With the assistance of experts in an indirect manner                                                                                                     iii. Self-education"
   ]
  },
  {
   "cell_type": "markdown",
   "id": "078ad6b1",
   "metadata": {},
   "source": [
    "#### i. Under the supervision of experts"
   ]
  },
  {
   "cell_type": "markdown",
   "id": "a1e787ed",
   "metadata": {},
   "source": [
    "Under the supervision of experts - Subject matter experts helps the ML to clarify the some uncertain data, then the model will learn from the input and make accurate predictions later.\n"
   ]
  },
  {
   "cell_type": "markdown",
   "id": "aea90948",
   "metadata": {},
   "source": [
    "#### ii. With the assistance of experts in an indirect manner "
   ]
  },
  {
   "cell_type": "markdown",
   "id": "b0a2e44d",
   "metadata": {},
   "source": [
    "Here the algorithm makes predictions and the human interference is in form of any correction needed to make the correct prediction. Human interaction is like a supervision work."
   ]
  },
  {
   "cell_type": "markdown",
   "id": "6b9f5fdc",
   "metadata": {},
   "source": [
    "#### iii. Self-education"
   ]
  },
  {
   "cell_type": "markdown",
   "id": "c33ece58",
   "metadata": {},
   "source": [
    "ML  systems with ability to automatically learn and improve from experience without being explicitly programmed."
   ]
  },
  {
   "cell_type": "markdown",
   "id": "3fd20b54",
   "metadata": {},
   "source": [
    "### 3. Provide a few examples of various types of machine learning."
   ]
  },
  {
   "cell_type": "markdown",
   "id": "8db38e5d",
   "metadata": {},
   "source": [
    "**Supervised Learning** - In supervised learning the training data will have target varible. Model will be trained with this data . Eg. House price pediction using linear regression."
   ]
  },
  {
   "cell_type": "markdown",
   "id": "ee33b393",
   "metadata": {},
   "source": [
    "**Unsupervised Learning** - It identifies patterns and relationships within the data on its own Eg. Fraud detection, Customer segmentation, suing K-means."
   ]
  },
  {
   "cell_type": "markdown",
   "id": "b520679c",
   "metadata": {},
   "source": [
    "**Reinforcement Learning** -  Applications in self-driving cars, Industry automation"
   ]
  },
  {
   "cell_type": "markdown",
   "id": "b2d38351",
   "metadata": {},
   "source": [
    "### 4. Examine the various forms of machine learning."
   ]
  },
  {
   "cell_type": "markdown",
   "id": "0d5a3fda",
   "metadata": {},
   "source": [
    "These are three types of Machine Learning Techniques:\n",
    "\n",
    "-Supervised Learning.\n",
    "\n",
    "-Unsupervised Learning.\n",
    "\n",
    "-Reinforcement Learning."
   ]
  },
  {
   "cell_type": "markdown",
   "id": "a12aaaef",
   "metadata": {},
   "source": [
    "### 5. Can you explain what a well-posed learning problem is? Explain the main characteristics that must be present to identify a learning problem properly."
   ]
  },
  {
   "cell_type": "markdown",
   "id": "25f5f776",
   "metadata": {},
   "source": [
    "Any problem can be segregated as well-posed learning problem if it has three traits – \n",
    "\n",
    "- Task\n",
    "- Performance Measure \n",
    "- Experience "
   ]
  },
  {
   "cell_type": "markdown",
   "id": "b5d25ba1",
   "metadata": {},
   "source": [
    "### 6. Is machine learning capable of solving all problems? Give a detailed explanation of your answer."
   ]
  },
  {
   "cell_type": "markdown",
   "id": "dad33e4d",
   "metadata": {},
   "source": [
    "Machine learning canot alone aolve all the real world problems. It can predict the outcomes and gives its observations or recommendations to the clearly defind problem. but it cannot slove the problem on its own.  \n",
    "\n",
    "It is the statistical tools to solve the problems."
   ]
  },
  {
   "cell_type": "markdown",
   "id": "13bae0eb",
   "metadata": {},
   "source": [
    "### 7. What are the various methods and technologies for solving machine learning problems? Any two of them should be defined in detail."
   ]
  },
  {
   "cell_type": "markdown",
   "id": "5ff3fd2a",
   "metadata": {},
   "source": [
    "Methods used to solve machine learning problems are regression and Classification.\n",
    "\n",
    "- Regression is a supervised machine learning model which predicts the continuously varying outcome.\n",
    "\n",
    "- Classification algorithms maps the inputs into predefined class of outputs."
   ]
  },
  {
   "cell_type": "markdown",
   "id": "9868cdd7",
   "metadata": {},
   "source": [
    "### 8. Can you explain the various forms of supervised learning? Explain each one with an example application."
   ]
  },
  {
   "cell_type": "markdown",
   "id": "7e51f1e0",
   "metadata": {},
   "source": [
    "- **Regression** -  Regression is a supervised machine learning model which predicts the continuously varying outcome, it uses the best fit line to predict the output values.\n",
    "\n",
    "- **Classification** - Classification algorithms maps the inputs into predefined class of outputs. It groups the input data into different categories.\n",
    "\n",
    "- **Decision Trees** - Decision Trees are tree based model where  internal node represents a decision based on a feature, and each leaf node represents a prediction or a class label, it can solve both regression and classification problems."
   ]
  },
  {
   "cell_type": "markdown",
   "id": "498d83ad",
   "metadata": {},
   "source": [
    "### 9. What is the difference between supervised and unsupervised learning? With a sample application in each region, explain the differences."
   ]
  },
  {
   "cell_type": "markdown",
   "id": "9fe0ab1f",
   "metadata": {},
   "source": [
    "Supervised machine learning is done using labeled data whereas unsupervised learning has no labeled data.\n",
    "\n",
    "Regression and Classification problems uses Supervised machine learning.\n",
    "\n",
    "Clustering problems uses unsupervised machine learning."
   ]
  },
  {
   "cell_type": "markdown",
   "id": "8cc9db1e",
   "metadata": {},
   "source": [
    "### 10. Describe the machine learning process in depth."
   ]
  },
  {
   "cell_type": "markdown",
   "id": "8b440fe1",
   "metadata": {},
   "source": [
    "Machine learning process uses the cleaned data to create the models.\n",
    "\n",
    "The cleaned data is split into train and test dataset.\n",
    "\n",
    "train dataset is used to trian the ML Model and Test data is used to test the data.\n"
   ]
  },
  {
   "cell_type": "markdown",
   "id": "fd158a36",
   "metadata": {},
   "source": [
    "- **Linear regression (simple)** - Linear Regression is a supervised machine learning model which predicts the continuously varying outcome, it uses the best fit line to predict the output values."
   ]
  },
  {
   "cell_type": "markdown",
   "id": "8c41f1f8",
   "metadata": {},
   "source": [
    "- **Deep learning applications in healthcare** - Deep learing finds its application in healthcare industry. It is used to monitor health of the patients. It helps the Healthcare professionals to diagnose the disease more accurately."
   ]
  },
  {
   "cell_type": "markdown",
   "id": "4402908c",
   "metadata": {},
   "source": [
    "### 11. Make a comparison between:- \n",
    "#### 1. Generalization and abstraction\n",
    "#### 2. Learning that is guided and unsupervised\n",
    "#### 3. Regression and classification"
   ]
  },
  {
   "cell_type": "markdown",
   "id": "dac3a52c",
   "metadata": {},
   "source": [
    "**1. Generalization and abstraction** \n",
    "\n",
    "Generalization in machine learning refers to the ability of a trained model to accurately predict outcomes on new, previously unseen data. \n",
    "\n",
    "abstraction  identifys the essential features or characteristics for the machine learing model. It is used in high dimentional and comples datasets."
   ]
  },
  {
   "cell_type": "markdown",
   "id": "b7fc7c01",
   "metadata": {},
   "source": [
    "**2. Learning that is guided and unsupervised**\n",
    "\n",
    "Supervised Learning - In supervised learning the training data will have target varible. Model will be trained with this data . Eg. House price pediction using linear regression.\n",
    "\n",
    "Unsupervised Learning - It identifies patterns and relationships within the data on its own Eg. Fraud detection, Customer segmentation, suing K-means."
   ]
  },
  {
   "cell_type": "markdown",
   "id": "0e029c40",
   "metadata": {},
   "source": [
    "**3. Regression and classification**\n",
    "\n",
    "Regression - Regression is a supervised machine learning model which predicts the continuously varying outcome, it uses the best fit line to predict the output values.\n",
    "\n",
    "Classification - Classification algorithms maps the inputs into predefined class of outputs. It groups the input data into different categories."
   ]
  }
 ],
 "metadata": {
  "kernelspec": {
   "display_name": "Python 3 (ipykernel)",
   "language": "python",
   "name": "python3"
  },
  "language_info": {
   "codemirror_mode": {
    "name": "ipython",
    "version": 3
   },
   "file_extension": ".py",
   "mimetype": "text/x-python",
   "name": "python",
   "nbconvert_exporter": "python",
   "pygments_lexer": "ipython3",
   "version": "3.10.9"
  }
 },
 "nbformat": 4,
 "nbformat_minor": 5
}
